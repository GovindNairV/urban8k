{
  "cells": [
    {
      "cell_type": "markdown",
      "metadata": {
        "id": "view-in-github",
        "colab_type": "text"
      },
      "source": [
        "<a href=\"https://colab.research.google.com/github/GovindNairV/urban8k/blob/main/urban8k_cnn.ipynb\" target=\"_parent\"><img src=\"https://colab.research.google.com/assets/colab-badge.svg\" alt=\"Open In Colab\"/></a>"
      ]
    },
    {
      "cell_type": "markdown",
      "source": [
        "#Audio Classifier using CNN"
      ],
      "metadata": {
        "id": "g6TMjrl1dStd"
      }
    },
    {
      "cell_type": "markdown",
      "source": [
        "This is a classifier to classify UrbanSound8k dataset into 10 different classes using Convolutional Neural Network. The dataset contains 8732 sound files of 10 different classes:\n",
        "\n",
        "* Air Conditioner\n",
        "* Car Horn\n",
        "* Children Playing\n",
        "* Dog Bark\n",
        "* Drilling Machine\n",
        "* Engine Idling\n",
        "* Gun Shot\n",
        "* Jackhammer\n",
        "* Siren\n",
        "* Street Music\n",
        "\n",
        "This lies under the supervised machine learning category, so we have a dataset as well as a target category.\n",
        "\n"
      ],
      "metadata": {
        "id": "mz504tnYdY8T"
      }
    },
    {
      "cell_type": "markdown",
      "source": [
        "## Download Dataset from Kaggle"
      ],
      "metadata": {
        "id": "Vx_DMnaXAvVM"
      }
    },
    {
      "cell_type": "markdown",
      "source": [
        "First we install the required library"
      ],
      "metadata": {
        "id": "3wy_6uOREEUP"
      }
    },
    {
      "cell_type": "code",
      "source": [
        "!pip install opendatasets"
      ],
      "metadata": {
        "colab": {
          "base_uri": "https://localhost:8080/"
        },
        "id": "VNdnoBjfXqIV",
        "outputId": "4b99f950-dc0b-4739-f5bb-4e073a2f54d2"
      },
      "execution_count": null,
      "outputs": [
        {
          "output_type": "stream",
          "name": "stdout",
          "text": [
            "Looking in indexes: https://pypi.org/simple, https://us-python.pkg.dev/colab-wheels/public/simple/\n",
            "Requirement already satisfied: opendatasets in /usr/local/lib/python3.7/dist-packages (0.1.22)\n",
            "Requirement already satisfied: tqdm in /usr/local/lib/python3.7/dist-packages (from opendatasets) (4.64.1)\n",
            "Requirement already satisfied: click in /usr/local/lib/python3.7/dist-packages (from opendatasets) (7.1.2)\n",
            "Requirement already satisfied: kaggle in /usr/local/lib/python3.7/dist-packages (from opendatasets) (1.5.12)\n",
            "Requirement already satisfied: python-slugify in /usr/local/lib/python3.7/dist-packages (from kaggle->opendatasets) (6.1.2)\n",
            "Requirement already satisfied: python-dateutil in /usr/local/lib/python3.7/dist-packages (from kaggle->opendatasets) (2.8.2)\n",
            "Requirement already satisfied: certifi in /usr/local/lib/python3.7/dist-packages (from kaggle->opendatasets) (2022.9.24)\n",
            "Requirement already satisfied: requests in /usr/local/lib/python3.7/dist-packages (from kaggle->opendatasets) (2.23.0)\n",
            "Requirement already satisfied: six>=1.10 in /usr/local/lib/python3.7/dist-packages (from kaggle->opendatasets) (1.15.0)\n",
            "Requirement already satisfied: urllib3 in /usr/local/lib/python3.7/dist-packages (from kaggle->opendatasets) (1.24.3)\n",
            "Requirement already satisfied: text-unidecode>=1.3 in /usr/local/lib/python3.7/dist-packages (from python-slugify->kaggle->opendatasets) (1.3)\n",
            "Requirement already satisfied: chardet<4,>=3.0.2 in /usr/local/lib/python3.7/dist-packages (from requests->kaggle->opendatasets) (3.0.4)\n",
            "Requirement already satisfied: idna<3,>=2.5 in /usr/local/lib/python3.7/dist-packages (from requests->kaggle->opendatasets) (2.10)\n"
          ]
        }
      ]
    },
    {
      "cell_type": "markdown",
      "source": [
        "<br>We are using the opendatasets library to download the dataset from kaggle. To properly download the dataset follow the following steps:\n",
        "\n",
        "1. Create an account in www.kaggle.com\n",
        "2. Go to your profile and click on account. \n",
        "<img src = \"https://media.geeksforgeeks.org/wp-content/uploads/20220511164639/Capture9.PNG\"  height = 450>\n",
        "\n",
        "3. On the following page you will see an API section, where you will find a “Create New API Token” click on it, and it will download a kaggle.json file in which you will get your username and key.\n",
        "4. Upload the kaggle.json file to <b>/content</b> directory (the directory which is open by default when you open colab).\n",
        "5. Run the cell below."
      ],
      "metadata": {
        "id": "KLgj9fc3BByr"
      }
    },
    {
      "cell_type": "code",
      "source": [
        "import opendatasets as od\n",
        "\n",
        "od.download(\"https://www.kaggle.com/datasets/chrisfilo/urbansound8k\")"
      ],
      "metadata": {
        "id": "mhZvxq8uYAWx",
        "colab": {
          "base_uri": "https://localhost:8080/"
        },
        "outputId": "bbcc052a-a143-4176-e2d7-d64c02576f74"
      },
      "execution_count": null,
      "outputs": [
        {
          "output_type": "stream",
          "name": "stdout",
          "text": [
            "Downloading urbansound8k.zip to ./urbansound8k\n"
          ]
        },
        {
          "output_type": "stream",
          "name": "stderr",
          "text": [
            "100%|██████████| 5.61G/5.61G [00:52<00:00, 115MB/s]\n"
          ]
        },
        {
          "output_type": "stream",
          "name": "stdout",
          "text": [
            "\n"
          ]
        }
      ]
    },
    {
      "cell_type": "markdown",
      "source": [
        "# Preparing the data"
      ],
      "metadata": {
        "id": "YGoHHdCeErEt"
      }
    },
    {
      "cell_type": "markdown",
      "metadata": {
        "id": "VR0Z4AbPlvGg"
      },
      "source": [
        "### Import all the required libraries and packages"
      ]
    },
    {
      "cell_type": "code",
      "execution_count": null,
      "metadata": {
        "id": "jUZ5xtqNlvGl"
      },
      "outputs": [],
      "source": [
        "import os\n",
        "import pandas as pd\n",
        "import librosa \n",
        "import numpy as np\n",
        "import seaborn as sns\n",
        "from sklearn.preprocessing import LabelEncoder\n",
        "le = LabelEncoder()\n",
        "import matplotlib.pyplot as plt\n",
        "import tensorflow as tf\n",
        "from tensorflow import keras\n",
        "import tensorflow.keras.models as models\n",
        "import tensorflow.keras.layers as layers\n",
        "from tensorflow.keras.utils import to_categorical\n",
        "from sklearn.model_selection import train_test_split\n",
        "import IPython.display as idp\n",
        "from tensorflow.keras.models import load_model\n",
        "import cv2\n",
        "import warnings\n",
        "warnings.simplefilter(\"ignore\")\n",
        "from sklearn.metrics import classification_report,confusion_matrix"
      ]
    },
    {
      "cell_type": "markdown",
      "metadata": {
        "id": "r29vTWoylvGo"
      },
      "source": [
        "### Data Preprocessing"
      ]
    },
    {
      "cell_type": "code",
      "source": [
        "audio_dataset_path = '/content/urbansound8k'\n",
        "df = pd.read_csv('/content/urbansound8k/UrbanSound8K.csv')"
      ],
      "metadata": {
        "id": "wKu0gdJoXmwy"
      },
      "execution_count": null,
      "outputs": []
    },
    {
      "cell_type": "code",
      "execution_count": null,
      "metadata": {
        "colab": {
          "base_uri": "https://localhost:8080/",
          "height": 339
        },
        "id": "c19c5lfylvGp",
        "outputId": "7dd67714-839c-4210-ad8d-61efb024223a"
      },
      "outputs": [
        {
          "output_type": "execute_result",
          "data": {
            "text/plain": [
              "      slice_file_name    fsID  start        end  salience  fold  classID  \\\n",
              "0    100032-3-0-0.wav  100032    0.0   0.317551         1     5        3   \n",
              "1  100263-2-0-117.wav  100263   58.5  62.500000         1     5        2   \n",
              "2  100263-2-0-121.wav  100263   60.5  64.500000         1     5        2   \n",
              "3  100263-2-0-126.wav  100263   63.0  67.000000         1     5        2   \n",
              "4  100263-2-0-137.wav  100263   68.5  72.500000         1     5        2   \n",
              "\n",
              "              class  \n",
              "0          dog_bark  \n",
              "1  children_playing  \n",
              "2  children_playing  \n",
              "3  children_playing  \n",
              "4  children_playing  "
            ],
            "text/html": [
              "\n",
              "  <div id=\"df-12403a25-6daa-4bbb-830b-7f5df0a7970e\">\n",
              "    <div class=\"colab-df-container\">\n",
              "      <div>\n",
              "<style scoped>\n",
              "    .dataframe tbody tr th:only-of-type {\n",
              "        vertical-align: middle;\n",
              "    }\n",
              "\n",
              "    .dataframe tbody tr th {\n",
              "        vertical-align: top;\n",
              "    }\n",
              "\n",
              "    .dataframe thead th {\n",
              "        text-align: right;\n",
              "    }\n",
              "</style>\n",
              "<table border=\"1\" class=\"dataframe\">\n",
              "  <thead>\n",
              "    <tr style=\"text-align: right;\">\n",
              "      <th></th>\n",
              "      <th>slice_file_name</th>\n",
              "      <th>fsID</th>\n",
              "      <th>start</th>\n",
              "      <th>end</th>\n",
              "      <th>salience</th>\n",
              "      <th>fold</th>\n",
              "      <th>classID</th>\n",
              "      <th>class</th>\n",
              "    </tr>\n",
              "  </thead>\n",
              "  <tbody>\n",
              "    <tr>\n",
              "      <th>0</th>\n",
              "      <td>100032-3-0-0.wav</td>\n",
              "      <td>100032</td>\n",
              "      <td>0.0</td>\n",
              "      <td>0.317551</td>\n",
              "      <td>1</td>\n",
              "      <td>5</td>\n",
              "      <td>3</td>\n",
              "      <td>dog_bark</td>\n",
              "    </tr>\n",
              "    <tr>\n",
              "      <th>1</th>\n",
              "      <td>100263-2-0-117.wav</td>\n",
              "      <td>100263</td>\n",
              "      <td>58.5</td>\n",
              "      <td>62.500000</td>\n",
              "      <td>1</td>\n",
              "      <td>5</td>\n",
              "      <td>2</td>\n",
              "      <td>children_playing</td>\n",
              "    </tr>\n",
              "    <tr>\n",
              "      <th>2</th>\n",
              "      <td>100263-2-0-121.wav</td>\n",
              "      <td>100263</td>\n",
              "      <td>60.5</td>\n",
              "      <td>64.500000</td>\n",
              "      <td>1</td>\n",
              "      <td>5</td>\n",
              "      <td>2</td>\n",
              "      <td>children_playing</td>\n",
              "    </tr>\n",
              "    <tr>\n",
              "      <th>3</th>\n",
              "      <td>100263-2-0-126.wav</td>\n",
              "      <td>100263</td>\n",
              "      <td>63.0</td>\n",
              "      <td>67.000000</td>\n",
              "      <td>1</td>\n",
              "      <td>5</td>\n",
              "      <td>2</td>\n",
              "      <td>children_playing</td>\n",
              "    </tr>\n",
              "    <tr>\n",
              "      <th>4</th>\n",
              "      <td>100263-2-0-137.wav</td>\n",
              "      <td>100263</td>\n",
              "      <td>68.5</td>\n",
              "      <td>72.500000</td>\n",
              "      <td>1</td>\n",
              "      <td>5</td>\n",
              "      <td>2</td>\n",
              "      <td>children_playing</td>\n",
              "    </tr>\n",
              "  </tbody>\n",
              "</table>\n",
              "</div>\n",
              "      <button class=\"colab-df-convert\" onclick=\"convertToInteractive('df-12403a25-6daa-4bbb-830b-7f5df0a7970e')\"\n",
              "              title=\"Convert this dataframe to an interactive table.\"\n",
              "              style=\"display:none;\">\n",
              "        \n",
              "  <svg xmlns=\"http://www.w3.org/2000/svg\" height=\"24px\"viewBox=\"0 0 24 24\"\n",
              "       width=\"24px\">\n",
              "    <path d=\"M0 0h24v24H0V0z\" fill=\"none\"/>\n",
              "    <path d=\"M18.56 5.44l.94 2.06.94-2.06 2.06-.94-2.06-.94-.94-2.06-.94 2.06-2.06.94zm-11 1L8.5 8.5l.94-2.06 2.06-.94-2.06-.94L8.5 2.5l-.94 2.06-2.06.94zm10 10l.94 2.06.94-2.06 2.06-.94-2.06-.94-.94-2.06-.94 2.06-2.06.94z\"/><path d=\"M17.41 7.96l-1.37-1.37c-.4-.4-.92-.59-1.43-.59-.52 0-1.04.2-1.43.59L10.3 9.45l-7.72 7.72c-.78.78-.78 2.05 0 2.83L4 21.41c.39.39.9.59 1.41.59.51 0 1.02-.2 1.41-.59l7.78-7.78 2.81-2.81c.8-.78.8-2.07 0-2.86zM5.41 20L4 18.59l7.72-7.72 1.47 1.35L5.41 20z\"/>\n",
              "  </svg>\n",
              "      </button>\n",
              "      \n",
              "  <style>\n",
              "    .colab-df-container {\n",
              "      display:flex;\n",
              "      flex-wrap:wrap;\n",
              "      gap: 12px;\n",
              "    }\n",
              "\n",
              "    .colab-df-convert {\n",
              "      background-color: #E8F0FE;\n",
              "      border: none;\n",
              "      border-radius: 50%;\n",
              "      cursor: pointer;\n",
              "      display: none;\n",
              "      fill: #1967D2;\n",
              "      height: 32px;\n",
              "      padding: 0 0 0 0;\n",
              "      width: 32px;\n",
              "    }\n",
              "\n",
              "    .colab-df-convert:hover {\n",
              "      background-color: #E2EBFA;\n",
              "      box-shadow: 0px 1px 2px rgba(60, 64, 67, 0.3), 0px 1px 3px 1px rgba(60, 64, 67, 0.15);\n",
              "      fill: #174EA6;\n",
              "    }\n",
              "\n",
              "    [theme=dark] .colab-df-convert {\n",
              "      background-color: #3B4455;\n",
              "      fill: #D2E3FC;\n",
              "    }\n",
              "\n",
              "    [theme=dark] .colab-df-convert:hover {\n",
              "      background-color: #434B5C;\n",
              "      box-shadow: 0px 1px 3px 1px rgba(0, 0, 0, 0.15);\n",
              "      filter: drop-shadow(0px 1px 2px rgba(0, 0, 0, 0.3));\n",
              "      fill: #FFFFFF;\n",
              "    }\n",
              "  </style>\n",
              "\n",
              "      <script>\n",
              "        const buttonEl =\n",
              "          document.querySelector('#df-12403a25-6daa-4bbb-830b-7f5df0a7970e button.colab-df-convert');\n",
              "        buttonEl.style.display =\n",
              "          google.colab.kernel.accessAllowed ? 'block' : 'none';\n",
              "\n",
              "        async function convertToInteractive(key) {\n",
              "          const element = document.querySelector('#df-12403a25-6daa-4bbb-830b-7f5df0a7970e');\n",
              "          const dataTable =\n",
              "            await google.colab.kernel.invokeFunction('convertToInteractive',\n",
              "                                                     [key], {});\n",
              "          if (!dataTable) return;\n",
              "\n",
              "          const docLinkHtml = 'Like what you see? Visit the ' +\n",
              "            '<a target=\"_blank\" href=https://colab.research.google.com/notebooks/data_table.ipynb>data table notebook</a>'\n",
              "            + ' to learn more about interactive tables.';\n",
              "          element.innerHTML = '';\n",
              "          dataTable['output_type'] = 'display_data';\n",
              "          await google.colab.output.renderOutput(dataTable, element);\n",
              "          const docLink = document.createElement('div');\n",
              "          docLink.innerHTML = docLinkHtml;\n",
              "          element.appendChild(docLink);\n",
              "        }\n",
              "      </script>\n",
              "    </div>\n",
              "  </div>\n",
              "  "
            ]
          },
          "metadata": {},
          "execution_count": 5
        }
      ],
      "source": [
        "df.head(5)"
      ]
    },
    {
      "cell_type": "code",
      "execution_count": null,
      "metadata": {
        "colab": {
          "base_uri": "https://localhost:8080/"
        },
        "id": "eD4gMefclvGr",
        "outputId": "ac4aad64-0194-4a5d-ebb9-3f34a69998c2"
      },
      "outputs": [
        {
          "output_type": "stream",
          "name": "stdout",
          "text": [
            "Classes are:  ['dog_bark' 'children_playing' 'car_horn' 'air_conditioner' 'street_music'\n",
            " 'gun_shot' 'siren' 'engine_idling' 'jackhammer' 'drilling']\n",
            "# of Classes are:  10\n"
          ]
        }
      ],
      "source": [
        "classes = df['class'].unique()\n",
        "print(\"Classes are: \",classes)\n",
        "print(\"# of Classes are: \",classes.shape[0])"
      ]
    },
    {
      "cell_type": "markdown",
      "source": [
        "Now we will use Librosa to load audio data. So when we load any audio file with Librosa, it gives us 2 things. One is sample rate, and the other is a two-dimensional array. Let us load the above audio files with Librosa.\n",
        "\n",
        "* Sample rate – It represents how many samples are recorded per second. The default sampling rate with which librosa reads the file is 22050. The sample rate differs by the library you choose.\n",
        "* 2-D Array – The first axis represents recorded samples of amplitude. And the second axis represents the number of channels. There are different types of channels – Monophonic(audio that has one channel) and stereo(audio that has two channels).\n",
        "\n",
        "<br>We will use the librosa library to calculate the MFCC of each audio file that is loaded. The MFCC summarizes the frequency distribution across the window size. So, it is possible to analyze both the frequency and time characteristics of the sound. This audio representation will allow us to identify features for classification. So, it will try to convert audio into some kind of features based on time and frequency characteristics that will help us to do classification."
      ],
      "metadata": {
        "id": "cnfSp5puFacW"
      }
    },
    {
      "cell_type": "code",
      "execution_count": null,
      "metadata": {
        "id": "8CwM1ocIlvGs"
      },
      "outputs": [],
      "source": [
        "X = []\n",
        "y = []\n",
        "up_width = 173\n",
        "up_height = 40\n",
        "for data in df.iterrows():\n",
        "    file_name = os.path.join(os.path.abspath(audio_dataset_path),'fold'+str(data[1][5])+'/',str(data[1][0]))\n",
        "    raw , sr = librosa.load(file_name, res_type='kaiser_fast')\n",
        "    X_ = librosa.feature.mfcc(y=raw, sr=sr, n_mfcc=40)\n",
        "    up_points = (up_width, up_height)\n",
        "    X_ = cv2.resize(X_, up_points, interpolation= cv2.INTER_LINEAR)\n",
        "    X.append(X_)\n",
        "    y.append(data[1][7])"
      ]
    },
    {
      "cell_type": "code",
      "execution_count": null,
      "metadata": {
        "id": "Xo7OmVUilvGs"
      },
      "outputs": [],
      "source": [
        "X = np.array(X)\n",
        "y = np.array(y)"
      ]
    },
    {
      "cell_type": "code",
      "execution_count": null,
      "metadata": {
        "colab": {
          "base_uri": "https://localhost:8080/"
        },
        "id": "F22nstWulvGt",
        "outputId": "a650d0c8-82fe-4e0e-cf77-dfda2e3d718d"
      },
      "outputs": [
        {
          "output_type": "stream",
          "name": "stdout",
          "text": [
            "(8732, 40, 173)\n",
            "(8732,)\n"
          ]
        }
      ],
      "source": [
        "print(X.shape)\n",
        "print(y.shape)"
      ]
    },
    {
      "cell_type": "code",
      "execution_count": null,
      "metadata": {
        "id": "6LrENyKwlvGt"
      },
      "outputs": [],
      "source": [
        "y = to_categorical(le.fit_transform(y))\n",
        "X = X.reshape(X.shape[0], X.shape[1], X.shape[2], 1)"
      ]
    },
    {
      "cell_type": "code",
      "execution_count": null,
      "metadata": {
        "colab": {
          "base_uri": "https://localhost:8080/"
        },
        "id": "zOVnh10alvGt",
        "outputId": "c3291320-1537-47fa-a4d1-f2a4d706baba"
      },
      "outputs": [
        {
          "output_type": "stream",
          "name": "stdout",
          "text": [
            "X Shape is:  (8732, 40, 173, 1)\n",
            "y Shape is:  (8732, 10)\n"
          ]
        }
      ],
      "source": [
        "print(\"X Shape is: \", X.shape)\n",
        "print(\"y Shape is: \", y.shape)"
      ]
    },
    {
      "cell_type": "markdown",
      "metadata": {
        "id": "h6TasoJclvGu"
      },
      "source": [
        "### Train Test Split"
      ]
    },
    {
      "cell_type": "code",
      "execution_count": null,
      "metadata": {
        "id": "QHMifOyflvGu"
      },
      "outputs": [],
      "source": [
        "X_train , X_test , y_train , y_test = train_test_split(X , y ,test_size=0.2, random_state=42)"
      ]
    },
    {
      "cell_type": "code",
      "execution_count": null,
      "metadata": {
        "id": "xgoYe1j4lvGv"
      },
      "outputs": [],
      "source": [
        "INPUTSHAPE = (up_height,up_width,1)"
      ]
    },
    {
      "cell_type": "markdown",
      "metadata": {
        "id": "RAbef8tSlvGv"
      },
      "source": [
        "# Model Building"
      ]
    },
    {
      "cell_type": "code",
      "execution_count": null,
      "metadata": {
        "colab": {
          "base_uri": "https://localhost:8080/"
        },
        "id": "QASkYAtclvGv",
        "outputId": "0c7ffd46-c8d9-4566-c9c2-89e4d4856c83"
      },
      "outputs": [
        {
          "output_type": "stream",
          "name": "stdout",
          "text": [
            "Model: \"sequential\"\n",
            "_________________________________________________________________\n",
            " Layer (type)                Output Shape              Param #   \n",
            "=================================================================\n",
            " conv2d (Conv2D)             (None, 38, 171, 32)       320       \n",
            "                                                                 \n",
            " max_pooling2d (MaxPooling2D  (None, 19, 86, 32)       0         \n",
            " )                                                               \n",
            "                                                                 \n",
            " conv2d_1 (Conv2D)           (None, 17, 84, 128)       36992     \n",
            "                                                                 \n",
            " max_pooling2d_1 (MaxPooling  (None, 9, 42, 128)       0         \n",
            " 2D)                                                             \n",
            "                                                                 \n",
            " dropout (Dropout)           (None, 9, 42, 128)        0         \n",
            "                                                                 \n",
            " conv2d_2 (Conv2D)           (None, 7, 40, 128)        147584    \n",
            "                                                                 \n",
            " max_pooling2d_2 (MaxPooling  (None, 4, 20, 128)       0         \n",
            " 2D)                                                             \n",
            "                                                                 \n",
            " dropout_1 (Dropout)         (None, 4, 20, 128)        0         \n",
            "                                                                 \n",
            " global_average_pooling2d (G  (None, 128)              0         \n",
            " lobalAveragePooling2D)                                          \n",
            "                                                                 \n",
            " dense (Dense)               (None, 256)               33024     \n",
            "                                                                 \n",
            " dense_1 (Dense)             (None, 10)                2570      \n",
            "                                                                 \n",
            "=================================================================\n",
            "Total params: 220,490\n",
            "Trainable params: 220,490\n",
            "Non-trainable params: 0\n",
            "_________________________________________________________________\n"
          ]
        }
      ],
      "source": [
        "model =  models.Sequential([    \n",
        "                          layers.Conv2D(32 , (3,3),activation = 'relu',padding='valid', input_shape = INPUTSHAPE),  \n",
        "                          layers.MaxPooling2D(2, padding='same'),\n",
        "                          layers.Conv2D(128, (3,3), activation='relu',padding='valid'),\n",
        "                          layers.MaxPooling2D(2, padding='same'),\n",
        "                          layers.Dropout(0.3),\n",
        "                          layers.Conv2D(128, (3,3), activation='relu',padding='valid'),\n",
        "                          layers.MaxPooling2D(2, padding='same'),\n",
        "                          layers.Dropout(0.3),\n",
        "                          layers.GlobalAveragePooling2D(),\n",
        "                          layers.Dense(256 , activation = 'relu'),\n",
        "                          layers.Dense(10 , activation = 'softmax')\n",
        "])\n",
        "\n",
        "opt = keras.optimizers.Adam(learning_rate = 0.001)\n",
        "model.compile(loss = 'categorical_crossentropy', optimizer = opt, metrics = 'acc')\n",
        "model.summary()"
      ]
    },
    {
      "cell_type": "markdown",
      "metadata": {
        "id": "WItG6x4TlvGw"
      },
      "source": [
        "# Model Training"
      ]
    },
    {
      "cell_type": "code",
      "execution_count": null,
      "metadata": {
        "colab": {
          "base_uri": "https://localhost:8080/"
        },
        "id": "u_NmJy8clvGw",
        "outputId": "6128a2fd-f33f-465b-c6c9-9055421e4326"
      },
      "outputs": [
        {
          "output_type": "stream",
          "name": "stdout",
          "text": [
            "Epoch 1/15\n",
            "874/874 [==============================] - 147s 167ms/step - loss: 1.4218 - acc: 0.4932 - val_loss: 1.0480 - val_acc: 0.6388\n",
            "Epoch 2/15\n",
            "874/874 [==============================] - 136s 155ms/step - loss: 0.9145 - acc: 0.6833 - val_loss: 0.7889 - val_acc: 0.7218\n",
            "Epoch 3/15\n",
            "874/874 [==============================] - 134s 154ms/step - loss: 0.6953 - acc: 0.7639 - val_loss: 0.5356 - val_acc: 0.8248\n",
            "Epoch 4/15\n",
            "874/874 [==============================] - 134s 154ms/step - loss: 0.5532 - acc: 0.8096 - val_loss: 0.5561 - val_acc: 0.8065\n",
            "Epoch 5/15\n",
            "874/874 [==============================] - 134s 153ms/step - loss: 0.4764 - acc: 0.8395 - val_loss: 0.4381 - val_acc: 0.8552\n",
            "Epoch 6/15\n",
            "874/874 [==============================] - 135s 155ms/step - loss: 0.3875 - acc: 0.8689 - val_loss: 0.4250 - val_acc: 0.8649\n",
            "Epoch 7/15\n",
            "874/874 [==============================] - 134s 153ms/step - loss: 0.3368 - acc: 0.8809 - val_loss: 0.4101 - val_acc: 0.8620\n",
            "Epoch 8/15\n",
            "874/874 [==============================] - 135s 154ms/step - loss: 0.3041 - acc: 0.8972 - val_loss: 0.3938 - val_acc: 0.8775\n",
            "Epoch 9/15\n",
            "874/874 [==============================] - 145s 166ms/step - loss: 0.2847 - acc: 0.9039 - val_loss: 0.4537 - val_acc: 0.8672\n",
            "Epoch 10/15\n",
            "874/874 [==============================] - 136s 156ms/step - loss: 0.2270 - acc: 0.9174 - val_loss: 0.3904 - val_acc: 0.8970\n",
            "Epoch 11/15\n",
            "874/874 [==============================] - 133s 152ms/step - loss: 0.2332 - acc: 0.9233 - val_loss: 0.3596 - val_acc: 0.9033\n",
            "Epoch 12/15\n",
            "874/874 [==============================] - 134s 154ms/step - loss: 0.2053 - acc: 0.9271 - val_loss: 0.2983 - val_acc: 0.9096\n",
            "Epoch 13/15\n",
            "874/874 [==============================] - 136s 155ms/step - loss: 0.2554 - acc: 0.9131 - val_loss: 0.3405 - val_acc: 0.9078\n",
            "Epoch 14/15\n",
            "874/874 [==============================] - 139s 160ms/step - loss: 0.1631 - acc: 0.9429 - val_loss: 0.3858 - val_acc: 0.8918\n",
            "Epoch 15/15\n",
            "874/874 [==============================] - 139s 159ms/step - loss: 0.1987 - acc: 0.9343 - val_loss: 0.3866 - val_acc: 0.9107\n"
          ]
        }
      ],
      "source": [
        "batch_size = 8\n",
        "callback = tf.keras.callbacks.EarlyStopping(\n",
        "    monitor='val_loss', min_delta=0, patience=8, verbose=0, mode='auto',\n",
        "    baseline=None, restore_best_weights=False)\n",
        "\n",
        "history = model.fit(X_train,y_train ,\n",
        "            validation_data=(X_test,y_test),\n",
        "            epochs=15,\n",
        "            callbacks = [callback],batch_size=batch_size)"
      ]
    },
    {
      "cell_type": "markdown",
      "metadata": {
        "id": "kqgzfCmYlvGw"
      },
      "source": [
        "# Model Accuracy & Loss"
      ]
    },
    {
      "cell_type": "code",
      "execution_count": null,
      "metadata": {
        "colab": {
          "base_uri": "https://localhost:8080/",
          "height": 573
        },
        "id": "ufpoGpI_lvGx",
        "outputId": "cdc7ebfb-fbb8-488f-8879-6c8200ba9c90"
      },
      "outputs": [
        {
          "output_type": "display_data",
          "data": {
            "text/plain": [
              "<Figure size 432x288 with 1 Axes>"
            ],
            "image/png": "[encoded data removed]"
          },
          "metadata": {
            "needs_background": "light"
          }
        },
        {
          "output_type": "display_data",
          "data": {
            "text/plain": [
              "<Figure size 432x288 with 1 Axes>"
            ],
            "image/png": "[encoded data removed]"
          },
          "metadata": {
            "needs_background": "light"
          }
        }
      ],
      "source": [
        "import matplotlib.pyplot as plt\n",
        "plt.plot(history.history['acc'])\n",
        "plt.plot(history.history['val_acc'])\n",
        "plt.title('model accuracy')\n",
        "plt.ylabel('accuracy')\n",
        "plt.xlabel('epoch')\n",
        "plt.legend(['train', 'validation'], loc='upper left')\n",
        "plt.show()\n",
        "\n",
        "\n",
        "plt.plot(history.history['loss'])\n",
        "plt.plot(history.history['val_loss'])\n",
        "plt.title('model loss')\n",
        "plt.ylabel('loss')\n",
        "plt.xlabel('epoch')\n",
        "plt.legend(['train', 'validation'], loc='upper left')\n",
        "plt.show()"
      ]
    },
    {
      "cell_type": "markdown",
      "metadata": {
        "id": "eiD6UBXJlvGx"
      },
      "source": [
        "## Model Evaluation ✅"
      ]
    },
    {
      "cell_type": "code",
      "execution_count": null,
      "metadata": {
        "colab": {
          "base_uri": "https://localhost:8080/"
        },
        "id": "BLugc97mlvGx",
        "outputId": "545ad01a-0d3c-48f2-dfad-946fd1538fdc"
      },
      "outputs": [
        {
          "output_type": "stream",
          "name": "stdout",
          "text": [
            "55/55 [==============================] - 8s 145ms/step\n"
          ]
        }
      ],
      "source": [
        "Y_pred = model.predict(X_test)\n",
        "Y_pred = [np.argmax(i) for i in Y_pred]\n",
        "y_test = [np.argmax(i) for i in y_test]"
      ]
    },
    {
      "cell_type": "code",
      "execution_count": null,
      "metadata": {
        "colab": {
          "base_uri": "https://localhost:8080/"
        },
        "id": "2xwiKqWblvGy",
        "outputId": "3adf5dc1-1118-455c-b5b8-dc0272eb2716"
      },
      "outputs": [
        {
          "output_type": "stream",
          "name": "stdout",
          "text": [
            "              precision    recall  f1-score   support\n",
            "\n",
            "           0       0.90      0.96      0.93       203\n",
            "           1       0.92      0.94      0.93        86\n",
            "           2       0.82      0.90      0.86       183\n",
            "           3       0.95      0.82      0.88       201\n",
            "           4       0.93      0.93      0.93       206\n",
            "           5       0.97      0.93      0.95       193\n",
            "           6       0.88      0.94      0.91        72\n",
            "           7       0.96      0.91      0.94       208\n",
            "           8       0.88      0.98      0.92       165\n",
            "           9       0.90      0.86      0.88       230\n",
            "\n",
            "    accuracy                           0.91      1747\n",
            "   macro avg       0.91      0.92      0.91      1747\n",
            "weighted avg       0.91      0.91      0.91      1747\n",
            "\n"
          ]
        }
      ],
      "source": [
        "print(classification_report(y_test,Y_pred))"
      ]
    },
    {
      "cell_type": "code",
      "execution_count": null,
      "metadata": {
        "colab": {
          "base_uri": "https://localhost:8080/",
          "height": 370
        },
        "id": "m1XPiYnwlvGy",
        "outputId": "1d7a211a-5f99-4469-ae5e-b5375f69f591"
      },
      "outputs": [
        {
          "output_type": "display_data",
          "data": {
            "text/plain": [
              "<Figure size 1080x576 with 1 Axes>"
            ],
            "image/png": "[encoded data removed]"
          },
          "metadata": {}
        }
      ],
      "source": [
        "sns.set_style(\"dark\")\n",
        "plt.figure(figsize=(15,8))\n",
        "plt.title(\"CONFUSION MATRIX FOR UrbanSound8K PREDICTION\")\n",
        "cm = confusion_matrix([int(x) for x in y_test],Y_pred)\n",
        "sns.heatmap(cm, annot=True, cmap=\"cool\", fmt='g', cbar=False)\n",
        "plt.xlabel(\"ACTUAL VALUES\")\n",
        "plt.ylabel(\"PREDICTED VALUES\")\n",
        "plt.show()"
      ]
    }
  ],
  "metadata": {
    "colab": {
      "provenance": [],
      "include_colab_link": true
    },
    "kernelspec": {
      "display_name": "Python 3",
      "language": "python",
      "name": "python3"
    },
    "language_info": {
      "codemirror_mode": {
        "name": "ipython",
        "version": 3
      },
      "file_extension": ".py",
      "mimetype": "text/x-python",
      "name": "python",
      "nbconvert_exporter": "python",
      "pygments_lexer": "ipython3",
      "version": "3.7.12"
    }
  },
  "nbformat": 4,
  "nbformat_minor": 0
}